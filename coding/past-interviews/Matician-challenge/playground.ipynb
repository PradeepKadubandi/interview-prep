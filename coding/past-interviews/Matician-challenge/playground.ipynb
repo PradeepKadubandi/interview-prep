{
 "cells": [
  {
   "cell_type": "code",
   "execution_count": 1,
   "metadata": {},
   "outputs": [],
   "source": [
    "%load_ext autoreload\n",
    "%autoreload 2"
   ]
  },
  {
   "cell_type": "code",
   "execution_count": 2,
   "metadata": {},
   "outputs": [],
   "source": [
    "import numpy as np\n",
    "import torch\n",
    "import torch.nn.functional as F\n",
    "import scipy.signal as signal\n",
    "from timeit import Timer\n",
    "import timeit\n",
    "import numba\n",
    "from numba import jit\n",
    "from numba import vectorize\n",
    "import time"
   ]
  },
  {
   "cell_type": "code",
   "execution_count": 3,
   "metadata": {},
   "outputs": [],
   "source": [
    "# All interesting comments\n",
    "# 1. Input array type is np.ubyte however had to keep output type as np.int16 as \n",
    "#    np.int8 is not sufficient for the possible range. "
   ]
  },
  {
   "cell_type": "code",
   "execution_count": 4,
   "metadata": {},
   "outputs": [
    {
     "name": "stdout",
     "output_type": "stream",
     "text": [
      "Machine parameters for uint8\n",
      "---------------------------------------------------------------\n",
      "min = 0\n",
      "max = 255\n",
      "---------------------------------------------------------------\n",
      "\n",
      "Machine parameters for int16\n",
      "---------------------------------------------------------------\n",
      "min = -32768\n",
      "max = 32767\n",
      "---------------------------------------------------------------\n",
      "\n"
     ]
    }
   ],
   "source": [
    "print (np.iinfo(np.ubyte))\n",
    "print (np.iinfo(np.int16))"
   ]
  },
  {
   "cell_type": "code",
   "execution_count": 5,
   "metadata": {},
   "outputs": [],
   "source": [
    "kernel = np.array([-1, 0, 1])"
   ]
  },
  {
   "cell_type": "code",
   "execution_count": 6,
   "metadata": {},
   "outputs": [],
   "source": [
    "def Dx_with_filter_specific_custom_impl(A):\n",
    "    Dx = np.zeros_like(A, dtype=np.int16)\n",
    "    Dx[:, 1:] -= A[:, :-1]\n",
    "    Dx[:, :-1] += A[:, 1:]\n",
    "    return Dx\n",
    "\n",
    "# This performs very poor without numba!\n",
    "def Dx_with_filter_specific_custom_impl_loops(A):\n",
    "    Dx = np.zeros_like(A, dtype=np.int16)\n",
    "    R, C = A.shape\n",
    "    for i in range(R):\n",
    "        for j in range(C):\n",
    "            if j > 0:\n",
    "                Dx[i,j] -= A[i, j-1]\n",
    "            if j < C-1:\n",
    "                Dx[i,j] += A[i,j+1]\n",
    "    return Dx\n",
    "\n",
    "def Dx_with_numpy_convolve(A):\n",
    "    Dx = np.zeros_like(A, dtype=np.int16)\n",
    "    for i in range(A.shape[0]):\n",
    "        Dx[i] = np.convolve(A[i], kernel, mode='same')\n",
    "    return Dx\n",
    "\n",
    "@jit(nopython=True)\n",
    "def numba_Dx_with_filter_specific_custom_impl(A):\n",
    "    Dx = np.zeros_like(A, dtype=np.int16)\n",
    "    R, C = A.shape\n",
    "    # Changing the order of loops doesn't impact functionality but reduces the performance!!!\n",
    "    for i in range(R):\n",
    "        for j in range(C):\n",
    "            if j > 0:\n",
    "                Dx[i,j] -= A[i,j-1]\n",
    "            if j < C-1:\n",
    "                Dx[i,j] += A[i,j+1]\n",
    "    return Dx\n",
    "\n",
    "def Dx_with_scipy_convolve(A):\n",
    "    Dx = signal.convolve2d(A, kernel.reshape(1, -1), mode='same')\n",
    "    return Dx\n",
    "    \n",
    "# Done for validating my implementation :-), expect it not to be performant (at least in terms of memory usage)\n",
    "def Dx_with_pytorch(A):\n",
    "    ip = torch.from_numpy(np.expand_dims(A, axis=(0,1)).astype(np.int16))\n",
    "    weight = torch.from_numpy(np.expand_dims(kernel, axis=(0,1,2)).astype(np.int16))\n",
    "    return F.conv2d(ip, weight, padding=(0,1)).numpy()"
   ]
  },
  {
   "cell_type": "code",
   "execution_count": 7,
   "metadata": {},
   "outputs": [],
   "source": [
    "def Dy_with_filter_specific_custom_impl(A):\n",
    "    Dy = np.zeros_like(A, dtype=np.int16)\n",
    "    Dy[1:, :] -= A[:-1, :]\n",
    "    Dy[:-1, :] += A[1:, :]\n",
    "    return Dy\n",
    "\n",
    "@jit(nopython=True)\n",
    "def numba_Dy_with_filter_specific_custom_impl(A):\n",
    "    Dy = np.zeros_like(A, dtype=np.int16)\n",
    "    R, C = A.shape\n",
    "    for i in range(R):\n",
    "        for j in range(C):\n",
    "            if i > 0:\n",
    "                Dy[i,j] -= A[i-1,j]\n",
    "            if i < R-1:\n",
    "                Dy[i,j] += A[i+1,j]\n",
    "    return Dy\n",
    "\n",
    "def Dy_with_numpy_convolve(A):\n",
    "    Dy = np.zeros_like(A, dtype=np.int16)\n",
    "    for i in range(A.shape[1]):\n",
    "        Dy[:, i] = np.convolve(A[:, i], kernel.T, mode='same')\n",
    "    return Dy\n",
    "\n",
    "def Dy_with_scipy_convolve(A):\n",
    "    Dy = signal.convolve2d(A, kernel.reshape(-1, 1), mode='same')\n",
    "    return Dy\n",
    "    \n",
    "# Done for validating my implementation :-), expect it not to be performant (at least in terms of memory usage)\n",
    "def Dy_with_pytorch(A):\n",
    "    ip = torch.from_numpy(np.expand_dims(A, axis=(0,1)).astype(np.int16))\n",
    "    weight = torch.from_numpy(np.expand_dims(kernel, axis=(0,1,3)).astype(np.int16))\n",
    "    return F.conv2d(ip, weight, padding=(1,0)).numpy()"
   ]
  },
  {
   "cell_type": "code",
   "execution_count": 195,
   "metadata": {},
   "outputs": [
    {
     "name": "stdout",
     "output_type": "stream",
     "text": [
      "uint8\n",
      "(7, 5)\n",
      "[[199 236   2   8 253]\n",
      " [122 203 231 156 113]\n",
      " [145 179 187 133 245]\n",
      " [ 28 200 201 113 165]\n",
      " [ 47 178 185  58  56]\n",
      " [ 10 202  88  82   8]\n",
      " [ 94  40  81 176  80]]\n"
     ]
    }
   ],
   "source": [
    "row, col = 7, 5\n",
    "SA = np.random.randint(0, 255, size=(row, col), dtype=np.ubyte)\n",
    "print (SA.dtype)\n",
    "print (SA.shape)\n",
    "print (SA)"
   ]
  },
  {
   "cell_type": "code",
   "execution_count": 228,
   "metadata": {},
   "outputs": [
    {
     "name": "stdout",
     "output_type": "stream",
     "text": [
      "Done\n"
     ]
    }
   ],
   "source": [
    "expected = Dx_with_pytorch(SA)\n",
    "for func in [Dx_with_filter_specific_custom_impl, Dx_with_filter_specific_custom_impl_loops, numba_Dx_with_filter_specific_custom_impl]:\n",
    "    if np.any(func(SA) - expected):\n",
    "        print ('Output from function {} unexpected'.format(func.__name__))\n",
    "print ('Done')"
   ]
  },
  {
   "cell_type": "code",
   "execution_count": 227,
   "metadata": {},
   "outputs": [
    {
     "name": "stdout",
     "output_type": "stream",
     "text": [
      "Done\n"
     ]
    }
   ],
   "source": [
    "expected = Dy_with_pytorch(SA)\n",
    "for func in [Dy_with_filter_specific_custom_impl, numba_Dy_with_filter_specific_custom_impl]:\n",
    "    if np.any(func(SA) - expected):\n",
    "        print ('Output from function {} unexpected'.format(func.__name__))\n",
    "print ('Done')"
   ]
  },
  {
   "cell_type": "code",
   "execution_count": 122,
   "metadata": {},
   "outputs": [
    {
     "name": "stdout",
     "output_type": "stream",
     "text": [
      "uint8\n",
      "(7000, 5000)\n"
     ]
    }
   ],
   "source": [
    "row, col = 7000, 5000\n",
    "LA = np.random.randint(0, 255, size=(row, col), dtype=np.ubyte)\n",
    "print (LA.dtype)\n",
    "print (LA.shape)"
   ]
  },
  {
   "cell_type": "code",
   "execution_count": 217,
   "metadata": {},
   "outputs": [
    {
     "name": "stdout",
     "output_type": "stream",
     "text": [
      "Time from function Dx_with_filter_specific_custom_impl\n",
      "6.201512004001415\n",
      "Time from function numba_Dx_with_filter_specific_custom_impl\n",
      "6.660915219999879\n"
     ]
    }
   ],
   "source": [
    "# for func in [Dx_with_numpy_convolve, Dx_with_pytorch, Dx_with_scipy_convolve, \n",
    "#              Dx_with_filter_specific_custom_impl, numba_Dx_with_filter_specific_custom_impl]:\n",
    "for func in [Dx_with_filter_specific_custom_impl, numba_Dx_with_filter_specific_custom_impl]:\n",
    "    print ('Time from function {}'.format(func.__name__))\n",
    "    t = Timer(lambda: func(LA))\n",
    "    print (t.timeit(number=100))"
   ]
  },
  {
   "cell_type": "code",
   "execution_count": 126,
   "metadata": {},
   "outputs": [
    {
     "name": "stdout",
     "output_type": "stream",
     "text": [
      "(7000, 5000)\n"
     ]
    }
   ],
   "source": [
    "Dx = Dx_with_filter_specific_custom_impl(LA)"
   ]
  },
  {
   "cell_type": "code",
   "execution_count": 240,
   "metadata": {},
   "outputs": [
    {
     "name": "stdout",
     "output_type": "stream",
     "text": [
      "(7000, 5000)\n"
     ]
    }
   ],
   "source": [
    "print (Dx.shape)"
   ]
  },
  {
   "cell_type": "code",
   "execution_count": 142,
   "metadata": {},
   "outputs": [
    {
     "data": {
      "text/plain": [
       "[(array(uint8, 2d, C),)]"
      ]
     },
     "execution_count": 142,
     "metadata": {},
     "output_type": "execute_result"
    }
   ],
   "source": [
    "numba_Dx_with_filter_specific_custom_impl.signatures"
   ]
  },
  {
   "cell_type": "code",
   "execution_count": 229,
   "metadata": {},
   "outputs": [
    {
     "name": "stdout",
     "output_type": "stream",
     "text": [
      "Time from function Dy_with_filter_specific_custom_impl\n",
      "7.240732628999467\n",
      "Time from function numba_Dy_with_filter_specific_custom_impl\n",
      "6.393693310999879\n"
     ]
    }
   ],
   "source": [
    "for func in [Dy_with_filter_specific_custom_impl, numba_Dy_with_filter_specific_custom_impl]:\n",
    "    print ('Time from function {}'.format(func.__name__))\n",
    "    t = Timer(lambda: func(LA))\n",
    "    print (t.timeit(number=100))"
   ]
  },
  {
   "cell_type": "code",
   "execution_count": 127,
   "metadata": {},
   "outputs": [
    {
     "name": "stdout",
     "output_type": "stream",
     "text": [
      "(7000, 5000)\n"
     ]
    }
   ],
   "source": [
    "Dy = Dy_with_filter_specific_custom_impl(LA)\n",
    "print (Dy.shape)"
   ]
  },
  {
   "cell_type": "code",
   "execution_count": 8,
   "metadata": {},
   "outputs": [],
   "source": [
    "def minmax_with_one_loop(A):\n",
    "    A = A.ravel()\n",
    "    n = A.size\n",
    "    max_val = min_val = A[0]\n",
    "    i = 1\n",
    "    while i < n:\n",
    "        e = A[i]\n",
    "        if e < min_val:\n",
    "            min_val = e\n",
    "        elif e > max_val: # No need to check this condition when the element is already lowest\n",
    "            max_val = e\n",
    "    return min_val, max_val\n",
    "\n",
    "@jit(nopython=True)\n",
    "def numba_minmax_with_one_loop(A):\n",
    "    min_val = max_val = A[0][0]\n",
    "    R, C = A.shape\n",
    "    for i in range(R):\n",
    "        for j in range(C):\n",
    "            e = A[i,j]\n",
    "            if e < min_val:\n",
    "                min_val = e\n",
    "            elif e < max_val:\n",
    "                max_val = e\n",
    "    return min_val, max_val\n",
    "\n",
    "@jit(nopython=True)\n",
    "def numba_minmax_with_optimized_comparisons(A):\n",
    "    A = A.ravel()\n",
    "    n = A.size\n",
    "    odd = n % 2\n",
    "    if not odd:\n",
    "        n -= 1\n",
    "    max_val = min_val = A[0]\n",
    "    i = 1\n",
    "    while i < n:\n",
    "        x = A[i]\n",
    "        y = A[i + 1]\n",
    "        if x > y:\n",
    "            x, y = y, x\n",
    "        min_val = min(x, min_val)\n",
    "        max_val = max(y, max_val)\n",
    "        i += 2\n",
    "    if not odd:\n",
    "        x = A[n]\n",
    "        min_val = min(x, min_val)\n",
    "        max_val = max(x, max_val)\n",
    "    return min_val,max_val\n",
    "\n",
    "def minmax_with_optimized_comparisons(A):\n",
    "    A = A.ravel()\n",
    "    n = A.size\n",
    "    odd = n % 2\n",
    "    if not odd:\n",
    "        n -= 1\n",
    "    max_val = min_val = A[0]\n",
    "    i = 1\n",
    "    while i < n:\n",
    "        x = A[i]\n",
    "        y = A[i + 1]\n",
    "        if x > y:\n",
    "            x, y = y, x\n",
    "        min_val = min(x, min_val)\n",
    "        max_val = max(y, max_val)\n",
    "        i += 2\n",
    "    if not odd:\n",
    "        x = A[n]\n",
    "        min_val = min(x, min_val)\n",
    "        max_val = max(x, max_val)\n",
    "    return min_val,max_val\n",
    "\n",
    "def minmax_with_numpy_library(A):\n",
    "    return np.min(A), np.max(A)"
   ]
  },
  {
   "cell_type": "code",
   "execution_count": 238,
   "metadata": {},
   "outputs": [
    {
     "name": "stdout",
     "output_type": "stream",
     "text": [
      "Output from function minmax_with_numpy_library\n",
      "(-254, 254)\n",
      "Output from function numba_minmax_with_optimized_comparisons\n",
      "(-254, 254)\n",
      "Output from function numba_minmax_with_one_loop\n",
      "(-254, -254)\n"
     ]
    }
   ],
   "source": [
    "#for func in [minmax_with_numpy_library, numba_minmax_with_optimized_comparisons, minmax_with_optimized_comparisons, minmax_with_one_loop]:\n",
    "for func in [minmax_with_numpy_library, numba_minmax_with_optimized_comparisons, numba_minmax_with_one_loop]:\n",
    "    print ('Output from function {}'.format(func.__name__))\n",
    "    print (func(Dx))"
   ]
  },
  {
   "cell_type": "code",
   "execution_count": 247,
   "metadata": {},
   "outputs": [
    {
     "name": "stdout",
     "output_type": "stream",
     "text": [
      "Time from function minmax_with_numpy_library\n",
      "Total time = 0.40338568999868585, n_calls = 500, average = 0.0008067713799973717\n",
      "Time from function numba_minmax_with_one_loop\n",
      "Total time = 0.20760240300296573, n_calls = 100, average = 0.0020760240300296572\n",
      "Time from function numba_minmax_with_optimized_comparisons\n",
      "Total time = 0.24735747200611513, n_calls = 2000, average = 0.00012367873600305758\n"
     ]
    }
   ],
   "source": [
    "# for func in [minmax_with_numpy_library, numba_minmax_with_optimized_comparisons, minmax_with_optimized_comparisons, minmax_with_one_loop]:\n",
    "for func in [minmax_with_numpy_library, numba_minmax_with_one_loop, numba_minmax_with_optimized_comparisons]:\n",
    "    print ('Time from function {}'.format(func.__name__))\n",
    "    t = Timer(stmt='func(IP)', setup='from __main__ import func; import numpy as np; IP = np.random.randint(low=-255, high=256, size=(1024,1024), dtype=np.int16)')\n",
    "    n_calls, total_time = t.autorange()\n",
    "    print ('Total time = {}, n_calls = {}, average = {}'.format(total_time, n_calls, total_time / n_calls))"
   ]
  },
  {
   "cell_type": "code",
   "execution_count": 250,
   "metadata": {},
   "outputs": [
    {
     "name": "stdout",
     "output_type": "stream",
     "text": [
      "4.11 ms ± 207 µs per loop (mean ± std. dev. of 7 runs, 100 loops each)\n"
     ]
    }
   ],
   "source": [
    "%%timeit\n",
    "IP = np.random.randint(low=-255, high=256, size=(1024,1024), dtype=np.int16)"
   ]
  },
  {
   "cell_type": "code",
   "execution_count": 252,
   "metadata": {},
   "outputs": [],
   "source": [
    "IP = np.random.randint(low=-255, high=256, size=(1024,1024), dtype=np.int16)"
   ]
  },
  {
   "cell_type": "code",
   "execution_count": 253,
   "metadata": {},
   "outputs": [
    {
     "name": "stdout",
     "output_type": "stream",
     "text": [
      "831 µs ± 84 µs per loop (mean ± std. dev. of 7 runs, 1000 loops each)\n"
     ]
    }
   ],
   "source": [
    "%%timeit\n",
    "# IP = np.random.randint(low=-255, high=256, size=(1024,1024), dtype=np.int16)\n",
    "_, _ = minmax_with_numpy_library(IP)"
   ]
  },
  {
   "cell_type": "code",
   "execution_count": 254,
   "metadata": {},
   "outputs": [
    {
     "name": "stdout",
     "output_type": "stream",
     "text": [
      "126 µs ± 9.46 µs per loop (mean ± std. dev. of 7 runs, 10000 loops each)\n"
     ]
    }
   ],
   "source": [
    "%%timeit\n",
    "# IP = np.random.randint(low=-255, high=256, size=(1024,1024), dtype=np.int16)\n",
    "_, _ = numba_minmax_with_optimized_comparisons(IP)"
   ]
  },
  {
   "cell_type": "code",
   "execution_count": 105,
   "metadata": {},
   "outputs": [
    {
     "name": "stdout",
     "output_type": "stream",
     "text": [
      "7.31 ms ± 466 µs per loop (mean ± std. dev. of 7 runs, 100 loops each)\n"
     ]
    }
   ],
   "source": [
    "%%timeit\n",
    "Dx_with_scipy_convolve(LA)"
   ]
  },
  {
   "cell_type": "code",
   "execution_count": 106,
   "metadata": {},
   "outputs": [
    {
     "name": "stdout",
     "output_type": "stream",
     "text": [
      "488 µs ± 6.83 µs per loop (mean ± std. dev. of 7 runs, 1000 loops each)\n"
     ]
    }
   ],
   "source": [
    "%%timeit\n",
    "Dx_with_filter_specific_custom_impl(LA)"
   ]
  },
  {
   "cell_type": "code",
   "execution_count": 9,
   "metadata": {},
   "outputs": [],
   "source": [
    "input_arrays_small = [np.random.randint(low=-255, high=256, size=(16,16), dtype=np.int16) for _ in range(1000)]"
   ]
  },
  {
   "cell_type": "code",
   "execution_count": 10,
   "metadata": {},
   "outputs": [],
   "source": [
    "input_arrays_med = [np.random.randint(low=-255, high=256, size=(512,512), dtype=np.int16) for _ in range(100)]"
   ]
  },
  {
   "cell_type": "code",
   "execution_count": 17,
   "metadata": {},
   "outputs": [],
   "source": [
    "input_arrays_large = [np.random.randint(low=-255, high=256, size=(4096,4096), dtype=np.int16) for _ in range(20)]"
   ]
  },
  {
   "cell_type": "code",
   "execution_count": 23,
   "metadata": {},
   "outputs": [],
   "source": [
    "def create_small_arrays():\n",
    "    return [np.random.randint(low=-255, high=256, size=(16,16), dtype=np.int16) for _ in range(1000)]\n",
    "def create_med_arrays():\n",
    "    return [np.random.randint(low=-255, high=256, size=(512,512), dtype=np.int16) for _ in range(100)]\n",
    "def create_large_arrays():\n",
    "    return [np.random.randint(low=-255, high=256, size=(4096,4096), dtype=np.int16) for _ in range(20)]\n",
    "\n",
    "def measure(f, input_arrays_lambda, threshhold=0.4):\n",
    "    total = 0.0\n",
    "    iterations = 0\n",
    "    while total < threshhold:\n",
    "        input_arrays = input_arrays_lambda()\n",
    "        start = time.perf_counter()\n",
    "        for ip in input_arrays:\n",
    "            f(ip)\n",
    "        stop = time.perf_counter()\n",
    "        total += stop - start\n",
    "        iterations += 1\n",
    "    loop = len(input_arrays)\n",
    "    avg_time_per_iteration = total/iterations\n",
    "    avg_time_per_loop = avg_time_per_iteration/loop\n",
    "    print ('Total Time = {}, Iterations = {}, Average per iteration = {}, Loop = {}, Average per 1 call = {}'\n",
    "           .format(total, iterations, avg_time_per_iteration, loop, avg_time_per_loop))"
   ]
  },
  {
   "cell_type": "code",
   "execution_count": 24,
   "metadata": {},
   "outputs": [
    {
     "name": "stdout",
     "output_type": "stream",
     "text": [
      "Total Time = 0.4001055129995166, Iterations = 614, Average per iteration = 0.0006516376433216883, Loop = 1000, Average per 1 call = 6.516376433216883e-07\n",
      "Total Time = 0.4096119699997871, Iterations = 20, Average per iteration = 0.020480598499989355, Loop = 1000, Average per 1 call = 2.0480598499989355e-05\n"
     ]
    }
   ],
   "source": [
    "measure(numba_minmax_with_optimized_comparisons, create_small_arrays)\n",
    "measure(minmax_with_numpy_library, create_small_arrays)"
   ]
  },
  {
   "cell_type": "code",
   "execution_count": 25,
   "metadata": {},
   "outputs": [
    {
     "name": "stdout",
     "output_type": "stream",
     "text": [
      "Total Time = 0.40576040100006594, Iterations = 71, Average per iteration = 0.005714935225353042, Loop = 100, Average per 1 call = 5.714935225353042e-05\n",
      "Total Time = 0.4107095440000421, Iterations = 15, Average per iteration = 0.027380636266669475, Loop = 100, Average per 1 call = 0.00027380636266669477\n"
     ]
    }
   ],
   "source": [
    "measure(numba_minmax_with_optimized_comparisons, create_med_arrays)\n",
    "measure(minmax_with_numpy_library, create_med_arrays)"
   ]
  },
  {
   "cell_type": "code",
   "execution_count": 26,
   "metadata": {},
   "outputs": [
    {
     "name": "stdout",
     "output_type": "stream",
     "text": [
      "Total Time = 10.083471972000325, Iterations = 70, Average per iteration = 0.14404959960000463, Loop = 20, Average per 1 call = 0.0072024799800002315\n",
      "Total Time = 10.007752615999834, Iterations = 29, Average per iteration = 0.34509491779309776, Loop = 20, Average per 1 call = 0.017254745889654886\n"
     ]
    }
   ],
   "source": [
    "threshhold = 10.0\n",
    "measure(numba_minmax_with_optimized_comparisons, create_large_arrays, threshhold)\n",
    "measure(minmax_with_numpy_library, create_large_arrays, threshhold)"
   ]
  },
  {
   "cell_type": "code",
   "execution_count": null,
   "metadata": {},
   "outputs": [],
   "source": []
  }
 ],
 "metadata": {
  "kernelspec": {
   "display_name": "Python 3",
   "language": "python",
   "name": "python3"
  },
  "language_info": {
   "codemirror_mode": {
    "name": "ipython",
    "version": 3
   },
   "file_extension": ".py",
   "mimetype": "text/x-python",
   "name": "python",
   "nbconvert_exporter": "python",
   "pygments_lexer": "ipython3",
   "version": "3.7.1"
  }
 },
 "nbformat": 4,
 "nbformat_minor": 4
}
