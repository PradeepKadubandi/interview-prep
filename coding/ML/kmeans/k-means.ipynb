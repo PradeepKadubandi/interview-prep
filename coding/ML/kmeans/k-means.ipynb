{
 "cells": [
  {
   "cell_type": "code",
   "execution_count": 1,
   "id": "9fca877c",
   "metadata": {},
   "outputs": [],
   "source": [
    "import numpy as np"
   ]
  },
  {
   "cell_type": "code",
   "execution_count": 3,
   "id": "39026cb1",
   "metadata": {},
   "outputs": [],
   "source": [
    "n = 100\n",
    "d = 25\n",
    "k = 5"
   ]
  },
  {
   "cell_type": "code",
   "execution_count": 7,
   "id": "051e8b8c",
   "metadata": {},
   "outputs": [],
   "source": [
    "data = np.random.uniform(size=(n, d))"
   ]
  },
  {
   "cell_type": "code",
   "execution_count": 9,
   "id": "84e907f2",
   "metadata": {},
   "outputs": [
    {
     "data": {
      "text/plain": [
       "(100, 25)"
      ]
     },
     "execution_count": 9,
     "metadata": {},
     "output_type": "execute_result"
    }
   ],
   "source": [
    "data.shape"
   ]
  },
  {
   "cell_type": "code",
   "execution_count": 13,
   "id": "c10e6ccf",
   "metadata": {},
   "outputs": [],
   "source": [
    "indices = np.random.choice(n, k, replace=False)"
   ]
  },
  {
   "cell_type": "code",
   "execution_count": 14,
   "id": "e8a224e6",
   "metadata": {},
   "outputs": [
    {
     "data": {
      "text/plain": [
       "array([67, 14, 79, 56, 28])"
      ]
     },
     "execution_count": 14,
     "metadata": {},
     "output_type": "execute_result"
    }
   ],
   "source": [
    "indices"
   ]
  },
  {
   "cell_type": "code",
   "execution_count": 15,
   "id": "8714f3ef",
   "metadata": {},
   "outputs": [],
   "source": [
    "centers = data[indices]"
   ]
  },
  {
   "cell_type": "code",
   "execution_count": 17,
   "id": "7a81b92b",
   "metadata": {},
   "outputs": [
    {
     "data": {
      "text/plain": [
       "(5, 25)"
      ]
     },
     "execution_count": 17,
     "metadata": {},
     "output_type": "execute_result"
    }
   ],
   "source": [
    "centers.shape"
   ]
  },
  {
   "cell_type": "code",
   "execution_count": 18,
   "id": "d49ea013",
   "metadata": {},
   "outputs": [],
   "source": [
    "labels = np.empty(n)"
   ]
  },
  {
   "cell_type": "code",
   "execution_count": 20,
   "id": "458cfa67",
   "metadata": {},
   "outputs": [
    {
     "data": {
      "text/plain": [
       "(100,)"
      ]
     },
     "execution_count": 20,
     "metadata": {},
     "output_type": "execute_result"
    }
   ],
   "source": [
    "labels.shape"
   ]
  },
  {
   "cell_type": "code",
   "execution_count": 24,
   "id": "304d23db",
   "metadata": {},
   "outputs": [
    {
     "data": {
      "text/plain": [
       "array([0.81040127, 0.43658021, 0.8806107 , 0.98028988, 0.92649515,\n",
       "       0.33879622, 0.71181562, 0.6969235 , 0.64575968, 0.67895559,\n",
       "       0.53061782, 0.61579801, 0.35433662, 0.13102664, 0.3022433 ,\n",
       "       0.30724441, 0.64751513, 0.61009386, 0.53966849, 0.80223414,\n",
       "       0.15596885, 0.96071854, 0.18849735, 0.30900925, 0.82034375])"
      ]
     },
     "execution_count": 24,
     "metadata": {},
     "output_type": "execute_result"
    }
   ],
   "source": [
    "data[0]"
   ]
  },
  {
   "cell_type": "code",
   "execution_count": 29,
   "id": "31d6d6ae",
   "metadata": {},
   "outputs": [
    {
     "data": {
      "text/plain": [
       "(5, 25)"
      ]
     },
     "execution_count": 29,
     "metadata": {},
     "output_type": "execute_result"
    }
   ],
   "source": [
    "centers.shape"
   ]
  },
  {
   "cell_type": "code",
   "execution_count": 31,
   "id": "551bc309",
   "metadata": {},
   "outputs": [
    {
     "data": {
      "text/plain": [
       "4"
      ]
     },
     "execution_count": 31,
     "metadata": {},
     "output_type": "execute_result"
    }
   ],
   "source": [
    "np.argmin(np.sum((data[0] - centers) ** 2, axis=1))"
   ]
  },
  {
   "cell_type": "code",
   "execution_count": 32,
   "id": "03356394",
   "metadata": {},
   "outputs": [
    {
     "data": {
      "text/plain": [
       "(100, 1, 25)"
      ]
     },
     "execution_count": 32,
     "metadata": {},
     "output_type": "execute_result"
    }
   ],
   "source": [
    "data[:, None].shape"
   ]
  },
  {
   "cell_type": "code",
   "execution_count": 33,
   "id": "09387c47",
   "metadata": {},
   "outputs": [
    {
     "data": {
      "text/plain": [
       "(1, 5, 25)"
      ]
     },
     "execution_count": 33,
     "metadata": {},
     "output_type": "execute_result"
    }
   ],
   "source": [
    "centers[None].shape"
   ]
  },
  {
   "cell_type": "code",
   "execution_count": 41,
   "id": "8fb5ca1b",
   "metadata": {},
   "outputs": [],
   "source": [
    "diff = data[:, None] - centers[None]"
   ]
  },
  {
   "cell_type": "code",
   "execution_count": 42,
   "id": "0d5c2f63",
   "metadata": {},
   "outputs": [
    {
     "data": {
      "text/plain": [
       "(100, 5, 25)"
      ]
     },
     "execution_count": 42,
     "metadata": {},
     "output_type": "execute_result"
    }
   ],
   "source": [
    "diff.shape"
   ]
  },
  {
   "cell_type": "code",
   "execution_count": 44,
   "id": "e1cf1638",
   "metadata": {},
   "outputs": [],
   "source": [
    "distances_squared = np.sum(diff ** 2, axis=2)"
   ]
  },
  {
   "cell_type": "code",
   "execution_count": 45,
   "id": "29eb53ae",
   "metadata": {},
   "outputs": [
    {
     "data": {
      "text/plain": [
       "(100, 5)"
      ]
     },
     "execution_count": 45,
     "metadata": {},
     "output_type": "execute_result"
    }
   ],
   "source": [
    "distances_squared.shape"
   ]
  },
  {
   "cell_type": "code",
   "execution_count": 47,
   "id": "71b27156",
   "metadata": {},
   "outputs": [],
   "source": [
    "labels = np.argmin(distances_squared, axis=1)"
   ]
  },
  {
   "cell_type": "code",
   "execution_count": 48,
   "id": "64891152",
   "metadata": {},
   "outputs": [
    {
     "data": {
      "text/plain": [
       "(100,)"
      ]
     },
     "execution_count": 48,
     "metadata": {},
     "output_type": "execute_result"
    }
   ],
   "source": [
    "labels.shape"
   ]
  },
  {
   "cell_type": "code",
   "execution_count": 49,
   "id": "9f7a9c1a",
   "metadata": {},
   "outputs": [
    {
     "data": {
      "text/plain": [
       "array([4, 3, 2, 4, 4, 4, 0, 0, 3, 4, 4, 4, 3, 0, 1, 4, 0, 3, 4, 4, 0, 0,\n",
       "       3, 3, 3, 0, 4, 0, 4, 0, 4, 0, 2, 0, 4, 4, 4, 4, 0, 4, 0, 2, 4, 0,\n",
       "       4, 3, 4, 4, 0, 0, 4, 4, 0, 4, 4, 0, 3, 2, 4, 4, 3, 4, 0, 1, 0, 4,\n",
       "       0, 0, 4, 4, 4, 0, 4, 0, 4, 4, 4, 1, 0, 2, 4, 4, 0, 4, 4, 0, 0, 0,\n",
       "       1, 4, 4, 2, 0, 3, 4, 4, 0, 4, 0, 4], dtype=int64)"
      ]
     },
     "execution_count": 49,
     "metadata": {},
     "output_type": "execute_result"
    }
   ],
   "source": [
    "labels"
   ]
  },
  {
   "cell_type": "code",
   "execution_count": 53,
   "id": "a3c4a8c0",
   "metadata": {},
   "outputs": [
    {
     "data": {
      "text/plain": [
       "(100, 1)"
      ]
     },
     "execution_count": 53,
     "metadata": {},
     "output_type": "execute_result"
    }
   ],
   "source": [
    "labels[:, None].shape"
   ]
  },
  {
   "cell_type": "code",
   "execution_count": 54,
   "id": "9ab8980e",
   "metadata": {},
   "outputs": [
    {
     "data": {
      "text/plain": [
       "(5, 25)"
      ]
     },
     "execution_count": 54,
     "metadata": {},
     "output_type": "execute_result"
    }
   ],
   "source": [
    "centers.shape"
   ]
  },
  {
   "cell_type": "code",
   "execution_count": 57,
   "id": "057466b2",
   "metadata": {},
   "outputs": [
    {
     "data": {
      "text/plain": [
       "(100, 5)"
      ]
     },
     "execution_count": 57,
     "metadata": {},
     "output_type": "execute_result"
    }
   ],
   "source": [
    "(labels[:, None] == range(k)).shape"
   ]
  },
  {
   "cell_type": "code",
   "execution_count": 85,
   "id": "3bfb2b76",
   "metadata": {},
   "outputs": [],
   "source": [
    "onehot_labels = labels[:, None] == np.arange(k, dtype=np.int32)"
   ]
  },
  {
   "cell_type": "code",
   "execution_count": 86,
   "id": "0f28cac0",
   "metadata": {},
   "outputs": [
    {
     "data": {
      "text/plain": [
       "array([[False, False, False, False,  True],\n",
       "       [False, False, False,  True, False],\n",
       "       [False, False,  True, False, False],\n",
       "       [False, False, False, False,  True],\n",
       "       [False, False, False, False,  True]])"
      ]
     },
     "execution_count": 86,
     "metadata": {},
     "output_type": "execute_result"
    }
   ],
   "source": [
    "onehot_labels[:5] # compare with labels above"
   ]
  },
  {
   "cell_type": "code",
   "execution_count": 61,
   "id": "0be5b93a",
   "metadata": {},
   "outputs": [
    {
     "data": {
      "text/plain": [
       "(100, 5)"
      ]
     },
     "execution_count": 61,
     "metadata": {},
     "output_type": "execute_result"
    }
   ],
   "source": [
    "onehot_labels.shape"
   ]
  },
  {
   "cell_type": "code",
   "execution_count": 63,
   "id": "076007f4",
   "metadata": {},
   "outputs": [],
   "source": [
    "b_data, b_oh = np.broadcast_arrays(data[:, None], onehot_labels[:, :, None]) # (n, k, d), (n, k, d)"
   ]
  },
  {
   "cell_type": "code",
   "execution_count": 64,
   "id": "cdf533e2",
   "metadata": {},
   "outputs": [
    {
     "data": {
      "text/plain": [
       "((100, 5, 25), (100, 5, 25))"
      ]
     },
     "execution_count": 64,
     "metadata": {},
     "output_type": "execute_result"
    }
   ],
   "source": [
    "b_data.shape, b_oh.shape"
   ]
  },
  {
   "cell_type": "code",
   "execution_count": 75,
   "id": "b258ae0a",
   "metadata": {},
   "outputs": [
    {
     "data": {
      "text/plain": [
       "array([[[0.81040127, 0.43658021, 0.8806107 , 0.98028988, 0.92649515,\n",
       "         0.33879622, 0.71181562, 0.6969235 , 0.64575968, 0.67895559],\n",
       "        [0.81040127, 0.43658021, 0.8806107 , 0.98028988, 0.92649515,\n",
       "         0.33879622, 0.71181562, 0.6969235 , 0.64575968, 0.67895559],\n",
       "        [0.81040127, 0.43658021, 0.8806107 , 0.98028988, 0.92649515,\n",
       "         0.33879622, 0.71181562, 0.6969235 , 0.64575968, 0.67895559],\n",
       "        [0.81040127, 0.43658021, 0.8806107 , 0.98028988, 0.92649515,\n",
       "         0.33879622, 0.71181562, 0.6969235 , 0.64575968, 0.67895559],\n",
       "        [0.81040127, 0.43658021, 0.8806107 , 0.98028988, 0.92649515,\n",
       "         0.33879622, 0.71181562, 0.6969235 , 0.64575968, 0.67895559]],\n",
       "\n",
       "       [[0.56983538, 0.6579278 , 0.32102772, 0.9336031 , 0.49343154,\n",
       "         0.25709433, 0.71299215, 0.14800904, 0.58813468, 0.67354685],\n",
       "        [0.56983538, 0.6579278 , 0.32102772, 0.9336031 , 0.49343154,\n",
       "         0.25709433, 0.71299215, 0.14800904, 0.58813468, 0.67354685],\n",
       "        [0.56983538, 0.6579278 , 0.32102772, 0.9336031 , 0.49343154,\n",
       "         0.25709433, 0.71299215, 0.14800904, 0.58813468, 0.67354685],\n",
       "        [0.56983538, 0.6579278 , 0.32102772, 0.9336031 , 0.49343154,\n",
       "         0.25709433, 0.71299215, 0.14800904, 0.58813468, 0.67354685],\n",
       "        [0.56983538, 0.6579278 , 0.32102772, 0.9336031 , 0.49343154,\n",
       "         0.25709433, 0.71299215, 0.14800904, 0.58813468, 0.67354685]]])"
      ]
     },
     "execution_count": 75,
     "metadata": {},
     "output_type": "execute_result"
    }
   ],
   "source": [
    "b_data[:2, :, :10] # first 10 values of data sample only..."
   ]
  },
  {
   "cell_type": "code",
   "execution_count": 77,
   "id": "6e152521",
   "metadata": {},
   "outputs": [
    {
     "data": {
      "text/plain": [
       "array([[[False, False, False, False, False],\n",
       "        [False, False, False, False, False],\n",
       "        [False, False, False, False, False],\n",
       "        [False, False, False, False, False],\n",
       "        [ True,  True,  True,  True,  True]],\n",
       "\n",
       "       [[False, False, False, False, False],\n",
       "        [False, False, False, False, False],\n",
       "        [False, False, False, False, False],\n",
       "        [ True,  True,  True,  True,  True],\n",
       "        [False, False, False, False, False]]])"
      ]
     },
     "execution_count": 77,
     "metadata": {},
     "output_type": "execute_result"
    }
   ],
   "source": [
    "b_oh[:2, :, :5]"
   ]
  },
  {
   "cell_type": "code",
   "execution_count": 71,
   "id": "9b8654bf",
   "metadata": {},
   "outputs": [],
   "source": [
    "new_centers = b_data.mean(axis=0, where=b_oh)"
   ]
  },
  {
   "cell_type": "code",
   "execution_count": 72,
   "id": "0c96319e",
   "metadata": {},
   "outputs": [
    {
     "data": {
      "text/plain": [
       "(5, 25)"
      ]
     },
     "execution_count": 72,
     "metadata": {},
     "output_type": "execute_result"
    }
   ],
   "source": [
    "new_centers.shape"
   ]
  },
  {
   "cell_type": "code",
   "execution_count": 87,
   "id": "8d39023f",
   "metadata": {},
   "outputs": [],
   "source": [
    "onehot_labels  = np.eye(k)[labels]"
   ]
  },
  {
   "cell_type": "code",
   "execution_count": 88,
   "id": "e01c1209",
   "metadata": {},
   "outputs": [
    {
     "data": {
      "text/plain": [
       "(100, 5)"
      ]
     },
     "execution_count": 88,
     "metadata": {},
     "output_type": "execute_result"
    }
   ],
   "source": [
    "onehot_labels.shape"
   ]
  },
  {
   "cell_type": "code",
   "execution_count": 89,
   "id": "18dfecbe",
   "metadata": {},
   "outputs": [
    {
     "data": {
      "text/plain": [
       "array([[0., 0., 0., 0., 1.],\n",
       "       [0., 0., 0., 1., 0.],\n",
       "       [0., 0., 1., 0., 0.],\n",
       "       [0., 0., 0., 0., 1.],\n",
       "       [0., 0., 0., 0., 1.]])"
      ]
     },
     "execution_count": 89,
     "metadata": {},
     "output_type": "execute_result"
    }
   ],
   "source": [
    "onehot_labels[:5]"
   ]
  },
  {
   "cell_type": "code",
   "execution_count": 93,
   "id": "77388422",
   "metadata": {},
   "outputs": [],
   "source": [
    "group_counts = np.bincount(labels, minlength=k)"
   ]
  },
  {
   "cell_type": "code",
   "execution_count": 95,
   "id": "7349d269",
   "metadata": {},
   "outputs": [
    {
     "data": {
      "text/plain": [
       "(5, 1)"
      ]
     },
     "execution_count": 95,
     "metadata": {},
     "output_type": "execute_result"
    }
   ],
   "source": [
    "group_counts[:, None].shape"
   ]
  },
  {
   "cell_type": "code",
   "execution_count": 99,
   "id": "66701491",
   "metadata": {},
   "outputs": [
    {
     "data": {
      "text/plain": [
       "array([4, 3, 2, 4, 4, 4, 0, 0, 3, 4, 4, 4, 3, 0, 1, 4, 0, 3, 4, 4, 0, 0,\n",
       "       3, 3, 3, 0, 4, 0, 4, 0, 4, 0, 2, 0, 4, 4, 4, 4, 0, 4, 0, 2, 4, 0,\n",
       "       4, 3, 4, 4, 0, 0, 4, 4, 0, 4, 4, 0, 3, 2, 4, 4, 3, 4, 0, 1, 0, 4,\n",
       "       0, 0, 4, 4, 4, 0, 4, 0, 4, 4, 4, 1, 0, 2, 4, 4, 0, 4, 4, 0, 0, 0,\n",
       "       1, 4, 4, 2, 0, 3, 4, 4, 0, 4, 0, 4], dtype=int64)"
      ]
     },
     "execution_count": 99,
     "metadata": {},
     "output_type": "execute_result"
    }
   ],
   "source": [
    "labels"
   ]
  },
  {
   "cell_type": "code",
   "execution_count": 97,
   "id": "aeda0b6f",
   "metadata": {},
   "outputs": [],
   "source": [
    "group_sums = np.apply_along_axis(lambda w:np.bincount(labels, weights=w), 0, data)"
   ]
  },
  {
   "cell_type": "code",
   "execution_count": 98,
   "id": "569f745c",
   "metadata": {},
   "outputs": [
    {
     "data": {
      "text/plain": [
       "(5, 25)"
      ]
     },
     "execution_count": 98,
     "metadata": {},
     "output_type": "execute_result"
    }
   ],
   "source": [
    "group_sums.shape"
   ]
  },
  {
   "cell_type": "code",
   "execution_count": 100,
   "id": "a3778e36",
   "metadata": {},
   "outputs": [
    {
     "data": {
      "text/plain": [
       "array([[20.67057042, 12.5832722 , 13.71464934, 14.29865791, 11.81822224,\n",
       "        14.55816316, 16.36199105, 22.23354239, 13.08476444, 19.03712386,\n",
       "        14.9542604 , 18.51569183, 15.21081324, 15.4882575 , 19.17897578,\n",
       "        17.54314059, 17.24973173, 12.42280076, 18.42193423, 14.24156236,\n",
       "        15.37699882, 13.05663125, 15.54781433, 12.36230732, 14.09705448],\n",
       "       [ 1.15785692,  1.89578889,  2.80019038,  2.31645169,  3.11194667,\n",
       "         0.86771838,  3.14287989,  0.90133927,  2.48285581,  3.20106529,\n",
       "         1.38337371,  1.93186168,  0.49723546,  2.66333745,  1.10423224,\n",
       "         1.34966317,  2.74090294,  2.77373784,  1.19899049,  0.80374474,\n",
       "         1.82448145,  2.14209274,  1.2050333 ,  1.36761843,  1.94549393],\n",
       "       [ 4.24310663,  3.92579007,  3.17224817,  4.40124366,  2.75696808,\n",
       "         2.64935981,  2.95537922,  1.44021819,  3.47075796,  1.92779737,\n",
       "         2.76885599,  3.12639613,  1.9859191 ,  2.88251871,  3.51342442,\n",
       "         0.82228978,  1.16489129,  4.42374774,  4.16811029,  3.68287939,\n",
       "         2.79914481,  3.88732892,  3.83926362,  2.09935354,  2.83337886],\n",
       "       [ 7.74182096,  6.47853038,  5.35404278,  4.24012382,  5.62014343,\n",
       "         4.68929131,  6.12938423,  3.68648618,  6.29870947,  3.14986336,\n",
       "         4.18081939,  2.94708088,  4.90164737,  5.2264164 ,  4.76058601,\n",
       "         3.42641628,  8.40626149,  5.31052644,  4.93446268,  5.350767  ,\n",
       "         4.64691173,  4.6417139 ,  6.82637333,  5.55460797,  3.095347  ],\n",
       "       [18.48310985, 19.51188727, 27.72968815, 26.57943427, 24.89277503,\n",
       "        29.38267488, 19.78053662, 23.999984  , 26.49027221, 24.05905994,\n",
       "        21.47967277, 19.56809996, 19.75255207, 15.13453728, 23.02502192,\n",
       "        24.61519671, 22.16388136, 27.62075617, 21.69213401, 24.21548515,\n",
       "        25.77862454, 21.30360173, 16.09008743, 24.53826294, 27.81597911]])"
      ]
     },
     "execution_count": 100,
     "metadata": {},
     "output_type": "execute_result"
    }
   ],
   "source": [
    "group_sums"
   ]
  },
  {
   "cell_type": "code",
   "execution_count": 103,
   "id": "deb8950a",
   "metadata": {},
   "outputs": [],
   "source": [
    "new_centers2 = group_sums / group_counts[:, None]"
   ]
  },
  {
   "cell_type": "code",
   "execution_count": 104,
   "id": "e76610ea",
   "metadata": {},
   "outputs": [
    {
     "data": {
      "text/plain": [
       "True"
      ]
     },
     "execution_count": 104,
     "metadata": {},
     "output_type": "execute_result"
    }
   ],
   "source": [
    "np.all(new_centers == new_centers2)"
   ]
  },
  {
   "cell_type": "code",
   "execution_count": 105,
   "id": "ed7b2444",
   "metadata": {},
   "outputs": [
    {
     "data": {
      "text/plain": [
       "False"
      ]
     },
     "execution_count": 105,
     "metadata": {},
     "output_type": "execute_result"
    }
   ],
   "source": [
    "np.all(centers == new_centers2)"
   ]
  },
  {
   "cell_type": "code",
   "execution_count": null,
   "id": "e7cfd439",
   "metadata": {},
   "outputs": [],
   "source": []
  }
 ],
 "metadata": {
  "kernelspec": {
   "display_name": "Python 3 (ipykernel)",
   "language": "python",
   "name": "python3"
  },
  "language_info": {
   "codemirror_mode": {
    "name": "ipython",
    "version": 3
   },
   "file_extension": ".py",
   "mimetype": "text/x-python",
   "name": "python",
   "nbconvert_exporter": "python",
   "pygments_lexer": "ipython3",
   "version": "3.11.0"
  }
 },
 "nbformat": 4,
 "nbformat_minor": 5
}
